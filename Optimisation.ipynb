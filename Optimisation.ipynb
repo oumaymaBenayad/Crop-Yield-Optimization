{
 "cells": [
  {
   "cell_type": "code",
   "execution_count": 1,
   "id": "a3127eec",
   "metadata": {},
   "outputs": [],
   "source": [
    "from pulp import *\n",
    "import pandas as pd\n",
    "import numpy as np"
   ]
  },
  {
   "cell_type": "code",
   "execution_count": 2,
   "id": "381f3d6d",
   "metadata": {},
   "outputs": [],
   "source": [
    "model = LpProblem(\"Rendement-Palmier-Problem\", LpMaximize)"
   ]
  },
  {
   "cell_type": "code",
   "execution_count": 3,
   "id": "ed770871",
   "metadata": {},
   "outputs": [
    {
     "name": "stdout",
     "output_type": "stream",
     "text": [
      "Variable Indices: ['00', '01', '02', '03']\n"
     ]
    }
   ],
   "source": [
    "n_variables = 3 # nombre de variables\n",
    "variable_names = [str(i)+str(j) for j in range(n_variables+1) for i in range(1)]\n",
    "variable_names.sort()\n",
    "print(\"Variable Indices:\", variable_names)"
   ]
  },
  {
   "cell_type": "code",
   "execution_count": 4,
   "id": "21aa35ef",
   "metadata": {},
   "outputs": [
    {
     "name": "stdout",
     "output_type": "stream",
     "text": [
      "Decision Variable/Allocation Matrix: \n",
      "[[X_moy_taille X_temp_polli X_densite_plant]]\n"
     ]
    }
   ],
   "source": [
    "variable_names=[\"moy_taille\",\"temp_polli\",\"densite_plant\"]\n",
    "DV_variables = LpVariable.matrix(\"X\", variable_names, cat = \"Integer\", lowBound= 0 )\n",
    "allocation = np.array(DV_variables).reshape(1,3)\n",
    "print(\"Decision Variable/Allocation Matrix: \")\n",
    "print(allocation)"
   ]
  },
  {
   "cell_type": "code",
   "execution_count": 5,
   "id": "b5677fe1",
   "metadata": {},
   "outputs": [],
   "source": [
    "cost_matrix=[0.13,0.24,0.8]"
   ]
  },
  {
   "cell_type": "code",
   "execution_count": 6,
   "id": "dcd26678",
   "metadata": {},
   "outputs": [
    {
     "name": "stdout",
     "output_type": "stream",
     "text": [
      "0.8*X_densite_plant + 0.13*X_moy_taille + 0.24*X_temp_polli + 61.01\n",
      "Rendement-Palmier-Problem:\n",
      "MAXIMIZE\n",
      "0.8*X_densite_plant + 0.13*X_moy_taille + 0.24*X_temp_polli + 61.01\n",
      "VARIABLES\n",
      "0 <= X_densite_plant Integer\n",
      "0 <= X_moy_taille Integer\n",
      "0 <= X_temp_polli Integer\n",
      "\n"
     ]
    }
   ],
   "source": [
    "obj_func = lpSum(allocation*cost_matrix)+61.01\n",
    "print(obj_func)\n",
    "model +=  obj_func\n",
    "print(model)"
   ]
  },
  {
   "cell_type": "code",
   "execution_count": 7,
   "id": "234db3a6",
   "metadata": {},
   "outputs": [
    {
     "name": "stdout",
     "output_type": "stream",
     "text": [
      "X_moy_taille >= 5\n",
      "X_temp_polli >= 21\n",
      "X_densite_plant >= 7\n"
     ]
    }
   ],
   "source": [
    "nbr_variables = 3\n",
    "bounds=[5,21,7]\n",
    "for j in range(nbr_variables):\n",
    "    print(lpSum(allocation[i][j] for i in range(1)) >= bounds[j])\n",
    "    model += lpSum(allocation[i][j] for i in range(1)) >= bounds[j] , \"Rendement Constraintes \" +str(j)"
   ]
  },
  {
   "cell_type": "code",
   "execution_count": 8,
   "id": "c3c06389",
   "metadata": {},
   "outputs": [
    {
     "name": "stdout",
     "output_type": "stream",
     "text": [
      "X_moy_taille <= 30\n",
      "X_temp_polli <= 26\n",
      "X_densite_plant <= 10\n"
     ]
    }
   ],
   "source": [
    "nbr_variables = 3\n",
    "limites=[30,26,10]\n",
    "for j in range(nbr_variables):\n",
    "    print(lpSum(allocation[i][j] for i in range(1)) <= limites[j])\n",
    "    model += lpSum(allocation[i][j] for i in range(1)) <= limites[j] , \"Rendement limites \" + str(j)"
   ]
  },
  {
   "cell_type": "code",
   "execution_count": 9,
   "id": "6584281e",
   "metadata": {},
   "outputs": [
    {
     "name": "stdout",
     "output_type": "stream",
     "text": [
      "Rendement-Palmier-Problem:\n",
      "MAXIMIZE\n",
      "0.8*X_densite_plant + 0.13*X_moy_taille + 0.24*X_temp_polli + 61.01\n",
      "SUBJECT TO\n",
      "Rendement_Constraintes_0: X_moy_taille >= 5\n",
      "\n",
      "Rendement_Constraintes_1: X_temp_polli >= 21\n",
      "\n",
      "Rendement_Constraintes_2: X_densite_plant >= 7\n",
      "\n",
      "Rendement_limites_0: X_moy_taille <= 30\n",
      "\n",
      "Rendement_limites_1: X_temp_polli <= 26\n",
      "\n",
      "Rendement_limites_2: X_densite_plant <= 10\n",
      "\n",
      "VARIABLES\n",
      "0 <= X_densite_plant Integer\n",
      "0 <= X_moy_taille Integer\n",
      "0 <= X_temp_polli Integer\n",
      "\n"
     ]
    }
   ],
   "source": [
    "print(model)"
   ]
  },
  {
   "cell_type": "code",
   "execution_count": 10,
   "id": "0d31af93",
   "metadata": {},
   "outputs": [
    {
     "name": "stdout",
     "output_type": "stream",
     "text": [
      "Optimal\n"
     ]
    }
   ],
   "source": [
    "#model.solve()\n",
    "model.solve(PULP_CBC_CMD())\n",
    "\n",
    "status =  LpStatus[model.status]\n",
    "\n",
    "print(status)"
   ]
  },
  {
   "cell_type": "code",
   "execution_count": 11,
   "id": "9911b437",
   "metadata": {},
   "outputs": [
    {
     "name": "stdout",
     "output_type": "stream",
     "text": [
      "Rendement optimal: 79.14999999999999\n",
      "X_densite_plant = 10.0\n",
      "X_moy_taille = 30.0\n",
      "X_temp_polli = 26.0\n"
     ]
    }
   ],
   "source": [
    "print(\"Rendement optimal:\", model.objective.value())\n",
    "\n",
    "#Variables de décision\n",
    "for v in model.variables():\n",
    "    try:\n",
    "        print(v.name,\"=\", v.value())\n",
    "    except:\n",
    "        print(\"erreur valeur introuvable!\")"
   ]
  },
  {
   "cell_type": "code",
   "execution_count": null,
   "id": "c7cba73d",
   "metadata": {},
   "outputs": [],
   "source": []
  }
 ],
 "metadata": {
  "kernelspec": {
   "display_name": "Python 3",
   "language": "python",
   "name": "python3"
  },
  "language_info": {
   "codemirror_mode": {
    "name": "ipython",
    "version": 3
   },
   "file_extension": ".py",
   "mimetype": "text/x-python",
   "name": "python",
   "nbconvert_exporter": "python",
   "pygments_lexer": "ipython3",
   "version": "3.8.8"
  }
 },
 "nbformat": 4,
 "nbformat_minor": 5
}
